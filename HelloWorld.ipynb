{
 "cells": [
  {
   "cell_type": "code",
   "execution_count": 1,
   "id": "d8b246a8-e940-41f4-8eab-5108b1208f6e",
   "metadata": {},
   "outputs": [
    {
     "name": "stdout",
     "output_type": "stream",
     "text": [
      "Hello, world\n"
     ]
    }
   ],
   "source": [
    "print(\"Hello, world\")"
   ]
  },
  {
   "cell_type": "markdown",
   "id": "5935b161-8a3a-4abf-a1f4-8ac67db258ea",
   "metadata": {},
   "source": [
    "# My First Markdown Heading\n",
    "\n",
    "## My Second Markdown Heading\n",
    "\n",
    "This is some **bold** text\n",
    "1. First item\n",
    "2. Second item\n",
    "3. Third item"
   ]
  },
  {
   "cell_type": "code",
   "execution_count": 5,
   "id": "264135ef-f73c-47dc-909e-1b47e83205d1",
   "metadata": {},
   "outputs": [],
   "source": [
    "my_var = 5"
   ]
  },
  {
   "cell_type": "code",
   "execution_count": 6,
   "id": "b3e78cdd-4f31-4163-a1cf-c026530db3aa",
   "metadata": {},
   "outputs": [
    {
     "name": "stdout",
     "output_type": "stream",
     "text": [
      "10\n"
     ]
    }
   ],
   "source": [
    "result = my_var * 2\n",
    "print(result)"
   ]
  },
  {
   "cell_type": "code",
   "execution_count": null,
   "id": "793428d7-7966-4084-8cc6-c8c9fb279e5b",
   "metadata": {},
   "outputs": [],
   "source": []
  }
 ],
 "metadata": {
  "kernelspec": {
   "display_name": "Python 3 (ipykernel)",
   "language": "python",
   "name": "python3"
  },
  "language_info": {
   "codemirror_mode": {
    "name": "ipython",
    "version": 3
   },
   "file_extension": ".py",
   "mimetype": "text/x-python",
   "name": "python",
   "nbconvert_exporter": "python",
   "pygments_lexer": "ipython3",
   "version": "3.12.1"
  }
 },
 "nbformat": 4,
 "nbformat_minor": 5
}
