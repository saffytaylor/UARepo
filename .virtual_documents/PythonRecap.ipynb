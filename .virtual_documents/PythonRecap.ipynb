


pip install mapclassify

















num1 = 5
num2 = 8

# Sum the previous variables and print the result. Recall how we can use the f marker to style the outcome
sum_result = num1 + num2
print(f"Sum: {sum_result}")

# Swap the values of num1 and num2. Recall how variables can be modified 
num1, num2 = num2, num1
print(f"Swapped values: num1={num1}, num2={num2}")





num1 = float(input("Please enter the first number"))
num2 = float(input("Please enter the second number"))
num3 = float(input("Please enter the third number"))
# asks for numbers to be input, float declares the type of input and allows for float numbers

result = (num1+num2+num3)/3
#calculates and prints the result
print("The mean average of these three figure is ",result)





x = 10
y = 20

# Check if x is greater than 5 and y is less than 30.
if x > 5 and y < 30:
    print("Both conditions are True.")


# Check if either x is less than 5 or y is greater than 30.
if x < 5 or y > 30:
    print("At least one condition is True")





num1 = float(input("Please enter a number: "))
# asks for input of number

#calculates the modulus 
result = num1%2
if result == 0:
    print("Your number is even.")
else:
    print("Your number is odd.")





# Using a for loop to print numbers from 1 to 5.
for i in range(1, 6):
    print(f"The initial loop included: {i}")

# Using now a while loop to print even numbers from 2 to 8.
num = 2
while num <= 8:
    print(f"The second loop included: {num}")
    num += 2

# Whait if you need to calculate the sum of numbers from 1 to 10 using a loop.
sum_numbers = 0
for j in range(1, 11):
    sum_numbers += j
    print(f"The last loop included: {sum_numbers}")





num = int(input("Please enter a positive integer: "))
factorial = num

#whilst the number does not equal 1
while num != 1:
    #subtracts 1
    num -= 1
    #calculates the factorial
    factorial = factorial*num

#outputs results
print("The factorial of your number is ", factorial)





age = int(input("Enter the age"))


# Check if the variable age is greater than 18.
if age > 18:
    print("You are an adult.")

# Use elif to check if age is between 13 and 18.
elif 13 <= age <= 18:
    print("You are a teenager.")
    # If neither condition is met, print "Age is below 13."
else:
    print("Age is below 13.")

# A simple rock-paper-scissors game using if-else statements, should be something like this

import random
#We need a random library to make a fun game againts the computer, and the code has small issue can you fixed?

player_choice = input("Enter your choice (rock, paper, or scissors): ")
choices = ["rock", "paper", "scissors"]
computer_choice = random.choice(choices)
print(f"Your choice: {player_choice}")
print(f"Computer's choice: {computer_choice}")

if player_choice == computer_choice:
    print("It's a tie!")
elif (
    (player_choice == "rock" and computer_choice == "scissors")
    or (player_choice == "paper" and computer_choice == "rock")
    or (player_choice == "scissors" and computer_choice == "paper")
    ):
    print("You win!")
else:
    print("Computer wins!")






mark = int(input("Please enter the mark you received: "))

if mark > 20:
    if 20 <= mark <=40:
        print("You have achieved a 5.")
    elif 41 <= mark <= 60:
        print("You have achieved a 10. ")
    elif 61 <= mark <= 80:
        print("You have achieved a 15. ")
    else:
        print("You have achieved a 20. ")
else:
    print("Ungraded.")
        





# Define a function square that squares a given number.
def square(number):
    return number ** 2

# Using the function!

result = square(7)
print(f"Square of 7: {result}")

# Lets create another function is_prime to check if a number is prime.
def is_prime(number):
    if number < 2:
        return False
    for i in range(2, int(number ** 0.5) + 1):
        if number % i == 0:
            return False
    return True

# Finish the code here calling the function and adding the input to let the user provide the number.





def tempConv (fahrenheit):
    result = ((fahrenheit-32)*5)/9
    return result

fahrenheit = float(input("Please enter the temperature in fahrenheit: "))
celsius = tempConv(fahrenheit)
print("The temperature in Celsius is ",round(celsius,1)," degrees.")
#also rounds the result to 1 decimal place
    





import numpy as np

arr = np.array([1, 2, 3, 4, 5])

print(arr)


import numpy as np

arr = np.array([[1, 2, 3], [4, 5, 6]])

print(arr)

#Or what if we can use the random function:

array_2d = np.random.randint(0, 10, size=(3, 3))
print(array_2d)


import numpy as np

arr1 = np.array([1, 2, 3, 4])
arr2 = np.array([5, 6, 7, 8])

x = np.prod([arr1, arr2])

print(x)






import numpy as np
array = np.random.randint(1,10, size=(10))
print(array)

def calMean (array):
    total = 0
    for i in array:
        total = total + i
    mean = total/10
    return mean

def calStd(array):
    stanDev = np.std(array)
    return stanDev

mean_value = calMean(array)
std_deviation = calStd(array)

print(f"Mean: {mean_value}, Standard Deviation: {std_deviation}")






import pandas as pd

# Create a DataFrame with a dictionary of student names and their scores.
data = {"Student": ["Alice", "Bob", "Charlie"], "Mark": [85, 92, 78]} # Do you recall what a dictionary is???
df = pd.DataFrame(data)


# Add a new column for the grade based on the score using a loop.
grades = []
for score in df["Mark"]:
    if score >= 90:
        grades.append("A")
    elif score >= 80:
        grades.append("B")
    else:
        grades.append("C")


df["Grade"] = grades

# What if I can tell you there is a way you can avoid this long for loop, by using a function call lambda to run over each row in your dataframe., uncomment the following line and try that out.
# compare the results, and make sure you understand what the code is doing.
#df["Grade"] = df["Mark"].apply(lambda x: "A" if x >= 90 else "B" if x >= 80 else "C")


# Filter the DataFrame to show only students with scores above 80.
filtered_df = df[df["Mark"] > 80]
print(filtered_df)

# Read a CSV file into a DataFrame and perform basic data exploration.
# There is a world_cities.csv in the Moodle folder, make sure you add that in the folder where you have this notebook/






import pandas as pd

csv_df = pd.read_csv('world_cities.csv')
print(csv_df.head())

print(csv_df.columns)

# high population
highPop = csv_df[csv_df["pop"] > 1000000]
print(highPop.head())






import pandas as pd

sales_data_dict = {
    'Date': ['2022-01-01', '2022-01-02', '2022-01-03', '2022-01-04'],
    'Region': ['North', 'South', 'East', 'West'],
    'Product': ['A', 'B', 'A', 'C'],
    'Quantity': [15, 8, 12, 10],
    'Revenue': [1500, 1200, 1800, 900]
}

sales_data = pd.DataFrame(sales_data_dict)


movie_ratings_dict = {
    'Title': ['Movie1', 'Movie2', 'Movie3', 'Movie4'],
    'Genre': ['Action', 'Drama', 'Comedy', 'Thriller'],
    'Year': [2015, 2010, 2018, 2011],
    'Rating': [8.5, 7.8, 9.2, 8.0]
}

movie_ratings = pd.DataFrame(movie_ratings_dict)

print(sales_data)
print(movie_ratings)






#print(sales_data.head())
#sales_data.loc[(sales_data.Region == "North") & (sales_data.Quantity > 10)]
#sales_data.iloc[0,0:3]

#total sales for each region
sales_data["Pay"] = sales_data["Quantity"]*sales_data["Revenue"]
sales_data.iloc[0:3, 5]





import geopandas as gpd
import rasterio
from rasterio.plot import show

shapefile_path = 'Road_Safety_Accidents.shp'
gdf = gpd.read_file(shapefile_path)
gdf.explore()


raster_path = 'elev.tif'
raster = rasterio.open(raster_path)
show(raster)





#gdf.columns
#gdf.head()
#gdf.plot(column='SPEED_LIMI', cmap='OrRd', scheme='quantiles')
#gdf.plot(column='ACCIDENT_I', cmap='RdYlBu', tooltip=True)

#gdf.plot()



from rasterio.plot import show_hist
show_hist(gdf, bins=50, lw=0.0, stacked=False, alpha=0.3, 
          histtype='stepfilled', title="Histogram")



